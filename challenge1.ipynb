{
 "cells": [
  {
   "cell_type": "code",
   "execution_count": 1,
   "id": "22938c8d-88da-4e39-a656-0b8950dce944",
   "metadata": {},
   "outputs": [
    {
     "name": "stdout",
     "output_type": "stream",
     "text": [
      "Requirement already satisfied: pandas in /home/ssdsetup/jupyter_env/lib/python3.12/site-packages (2.2.3)\n",
      "Requirement already satisfied: numpy>=1.26.0 in /home/ssdsetup/jupyter_env/lib/python3.12/site-packages (from pandas) (2.1.3)\n",
      "Requirement already satisfied: python-dateutil>=2.8.2 in /home/ssdsetup/jupyter_env/lib/python3.12/site-packages (from pandas) (2.9.0.post0)\n",
      "Requirement already satisfied: pytz>=2020.1 in /home/ssdsetup/jupyter_env/lib/python3.12/site-packages (from pandas) (2025.2)\n",
      "Requirement already satisfied: tzdata>=2022.7 in /home/ssdsetup/jupyter_env/lib/python3.12/site-packages (from pandas) (2025.2)\n",
      "Requirement already satisfied: six>=1.5 in /home/ssdsetup/jupyter_env/lib/python3.12/site-packages (from python-dateutil>=2.8.2->pandas) (1.17.0)\n"
     ]
    }
   ],
   "source": [
    "!pip install pandas"
   ]
  },
  {
   "cell_type": "code",
   "execution_count": 2,
   "id": "1bc4c3ec-d735-4fe3-9c51-ce4f1d2645f6",
   "metadata": {},
   "outputs": [
    {
     "name": "stdout",
     "output_type": "stream",
     "text": [
      "/home/ssdsetup/git/zubalechallange\n"
     ]
    }
   ],
   "source": [
    "!pwd"
   ]
  },
  {
   "cell_type": "code",
   "execution_count": 3,
   "id": "5257693e-4a8f-498b-b9b0-fe4ada077975",
   "metadata": {},
   "outputs": [
    {
     "name": "stdout",
     "output_type": "stream",
     "text": [
      "(50, 4)\n",
      "   id  product_id  quantity  created_date\n",
      "0   1          11         1  '2024-12-01'\n",
      "1   2          17         2  '2024-12-01'\n",
      "2   3          19         1  '2024-12-01'\n",
      "3   4          12         1  '2024-12-01'\n",
      "4   5          11         2  '2024-12-01'\n"
     ]
    }
   ],
   "source": [
    "import pandas as pd\n",
    "\n",
    "# Replace 'your_file.csv' with the path to your CSV file\n",
    "orders = pd.read_csv('~/git/zubalechallange/data/orders.csv')\n",
    "\n",
    "# Check the first few rows\n",
    "print(orders.shape)\n",
    "print(orders.head())"
   ]
  },
  {
   "cell_type": "code",
   "execution_count": 4,
   "id": "19523386-44ee-4ea7-b3db-04e3daf63a57",
   "metadata": {},
   "outputs": [
    {
     "name": "stdout",
     "output_type": "stream",
     "text": [
      "(20, 4)\n",
      "   id       name category  price\n",
      "0   1  Product_1    Pants  92.55\n",
      "1   2  Product_2   Shirts  43.11\n",
      "2   3  Product_3  Jackets  59.02\n",
      "3   4  Product_4    Shoes  49.65\n",
      "4   5  Product_5    Pants  44.59\n"
     ]
    }
   ],
   "source": [
    "import pandas as pd\n",
    "\n",
    "# Replace 'your_file.csv' with the path to your CSV file\n",
    "products = pd.read_csv('~/git/zubalechallange/data/products.csv')\n",
    "\n",
    "# Check the first few rows\n",
    "print(products.shape)\n",
    "print(products.head())"
   ]
  },
  {
   "cell_type": "code",
   "execution_count": 5,
   "id": "e683b222-f025-450f-9cff-ca641d4b8c10",
   "metadata": {},
   "outputs": [
    {
     "name": "stdout",
     "output_type": "stream",
     "text": [
      "(50, 8)\n",
      "   id_order  product_id  quantity  created_date  id_product        name  \\\n",
      "0         1          11         1  '2024-12-01'          11  Product_11   \n",
      "1         2          17         2  '2024-12-01'          17  Product_17   \n",
      "2         3          19         1  '2024-12-01'          19  Product_19   \n",
      "3         4          12         1  '2024-12-01'          12  Product_12   \n",
      "4         5          11         2  '2024-12-01'          11  Product_11   \n",
      "\n",
      "  category  price  \n",
      "0  Dresses  69.06  \n",
      "1   Shirts  98.51  \n",
      "2   Shirts  51.94  \n",
      "3  Jackets  50.99  \n",
      "4  Dresses  69.06  \n"
     ]
    }
   ],
   "source": [
    "merged = orders.merge(products, left_on='product_id', right_on='id', suffixes=('_order', '_product'))\n",
    "print(merged.shape)\n",
    "print(merged.head())"
   ]
  },
  {
   "cell_type": "code",
   "execution_count": 6,
   "id": "5601ddcd-0dc1-4a5c-9272-15979b29ee1a",
   "metadata": {},
   "outputs": [
    {
     "name": "stdout",
     "output_type": "stream",
     "text": [
      "(50, 6)\n",
      "  order_created_date  order_id product_name  quantity  price category\n",
      "0       '2024-12-01'         1   Product_11         1  69.06  Dresses\n",
      "1       '2024-12-01'         2   Product_17         2  98.51   Shirts\n",
      "2       '2024-12-01'         3   Product_19         1  51.94   Shirts\n",
      "3       '2024-12-01'         4   Product_12         1  50.99  Jackets\n",
      "4       '2024-12-01'         5   Product_11         2  69.06  Dresses\n"
     ]
    }
   ],
   "source": [
    "consolidated = merged[['created_date', 'id_order', 'name', 'quantity', 'price','category']].copy()\n",
    "consolidated.columns = ['order_created_date', 'order_id', 'product_name', 'quantity', 'price','category']\n",
    "print(consolidated.shape)\n",
    "print(consolidated.head())\n"
   ]
  },
  {
   "cell_type": "code",
   "execution_count": 7,
   "id": "fb23a972-5232-4cfe-b53d-83df685aa99c",
   "metadata": {},
   "outputs": [
    {
     "name": "stdout",
     "output_type": "stream",
     "text": [
      "📐 Shape: (50, 6)\n",
      "\n",
      "🧾 Column Types:\n",
      "order_created_date     object\n",
      "order_id                int64\n",
      "product_name           object\n",
      "quantity                int64\n",
      "price                 float64\n",
      "category               object\n",
      "dtype: object\n",
      "\n",
      "🕳️ Missing Values:\n",
      "order_created_date    0\n",
      "order_id              0\n",
      "product_name          0\n",
      "quantity              0\n",
      "price                 0\n",
      "category              0\n",
      "dtype: int64\n",
      "\n",
      "📊 Summary Statistics (Numeric):\n",
      "       order_id  quantity      price\n",
      "count  50.00000  50.00000  50.000000\n",
      "mean   25.50000   2.92000  54.141400\n",
      "std    14.57738   1.45462  28.552907\n",
      "min     1.00000   1.00000  10.110000\n",
      "25%    13.25000   2.00000  43.480000\n",
      "50%    25.50000   3.00000  48.210000\n",
      "75%    37.75000   4.00000  69.060000\n",
      "max    50.00000   5.00000  99.960000\n",
      "\n",
      "🔤 Summary Statistics (Categorical):\n",
      "       order_created_date product_name category\n",
      "count                  50           50       50\n",
      "unique                  8           18        5\n",
      "top          '2024-12-06'    Product_5   Shirts\n",
      "freq                   10            8       16\n",
      "\n",
      "🔑 Unique Values Per Column:\n",
      "order_created_date     8\n",
      "order_id              50\n",
      "product_name          18\n",
      "quantity               5\n",
      "price                 18\n",
      "category               5\n",
      "dtype: int64\n",
      "\n",
      "📄 Duplicate Rows: 0\n",
      "\n",
      "📌 Top 5 Values Per Categorical Column:\n",
      "\n",
      "Column: order_created_date\n",
      "order_created_date\n",
      "'2024-12-06'    10\n",
      "'2024-12-01'     8\n",
      "'2024-12-09'     7\n",
      "'2024-12-10'     7\n",
      "'2024-12-05'     6\n",
      "Name: count, dtype: int64\n",
      "\n",
      "Column: product_name\n",
      "product_name\n",
      "Product_5     8\n",
      "Product_17    5\n",
      "Product_19    5\n",
      "Product_18    4\n",
      "Product_11    3\n",
      "Name: count, dtype: int64\n",
      "\n",
      "Column: category\n",
      "category\n",
      "Shirts     16\n",
      "Pants      11\n",
      "Jackets    10\n",
      "Shoes       7\n",
      "Dresses     6\n",
      "Name: count, dtype: int64\n"
     ]
    }
   ],
   "source": [
    "#a basic data profile before final csv file\n",
    "\n",
    "# 1. Basic Information\n",
    "print(\"📐 Shape:\", consolidated.shape)\n",
    "print(\"\\n🧾 Column Types:\")\n",
    "print(consolidated.dtypes)\n",
    "\n",
    "# 2. Missing Values\n",
    "print(\"\\n🕳️ Missing Values:\")\n",
    "print(consolidated.isnull().sum())\n",
    "\n",
    "# 3. Summary Statistics (numeric)\n",
    "print(\"\\n📊 Summary Statistics (Numeric):\")\n",
    "print(consolidated.describe())\n",
    "\n",
    "# 4. Summary Statistics (categorical)\n",
    "print(\"\\n🔤 Summary Statistics (Categorical):\")\n",
    "print(consolidated.describe(include='object'))\n",
    "\n",
    "# 5. Unique Values per Column\n",
    "print(\"\\n🔑 Unique Values Per Column:\")\n",
    "print(consolidated.nunique())\n",
    "\n",
    "# 6. Duplicate Rows\n",
    "print(\"\\n📄 Duplicate Rows:\", consolidated.duplicated().sum())\n",
    "\n",
    "# 7. Top 5 Frequent Values in Categorical Columns\n",
    "print(\"\\n📌 Top 5 Values Per Categorical Column:\")\n",
    "for col in consolidated.select_dtypes(include='object').columns:\n",
    "    print(f\"\\nColumn: {col}\")\n",
    "    print(consolidated[col].value_counts().head(5))"
   ]
  },
  {
   "cell_type": "code",
   "execution_count": 8,
   "id": "15fbf5ad-1c4e-49ce-a910-b21148b41e13",
   "metadata": {},
   "outputs": [],
   "source": [
    "consolidated.to_csv(\"/home/ssdsetup/git/zubalechallange/data/order_full_information.csv\")\n"
   ]
  },
  {
   "cell_type": "code",
   "execution_count": 9,
   "id": "af2c7472-91fb-4709-860a-eaa3217309ee",
   "metadata": {},
   "outputs": [
    {
     "name": "stdout",
     "output_type": "stream",
     "text": [
      "/home/ssdsetup/git/zubalechallange\n"
     ]
    }
   ],
   "source": [
    "!pwd"
   ]
  },
  {
   "cell_type": "code",
   "execution_count": null,
   "id": "7ca8dfd1-a45c-4110-b20d-ed4bc64d02ae",
   "metadata": {},
   "outputs": [],
   "source": []
  }
 ],
 "metadata": {
  "kernelspec": {
   "display_name": "Python 3 (ipykernel)",
   "language": "python",
   "name": "python3"
  },
  "language_info": {
   "codemirror_mode": {
    "name": "ipython",
    "version": 3
   },
   "file_extension": ".py",
   "mimetype": "text/x-python",
   "name": "python",
   "nbconvert_exporter": "python",
   "pygments_lexer": "ipython3",
   "version": "3.12.3"
  }
 },
 "nbformat": 4,
 "nbformat_minor": 5
}
