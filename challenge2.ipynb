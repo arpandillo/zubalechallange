{
 "cells": [
  {
   "cell_type": "code",
   "execution_count": 6,
   "id": "5257693e-4a8f-498b-b9b0-fe4ada077975",
   "metadata": {},
   "outputs": [
    {
     "name": "stdout",
     "output_type": "stream",
     "text": [
      "(50, 7)\n",
      "   Unnamed: 0 order_created_date  order_id product_name  quantity category  \\\n",
      "0           0       '2024-12-01'         1   Product_11         1  Dresses   \n",
      "1           1       '2024-12-01'         2   Product_17         2   Shirts   \n",
      "2           2       '2024-12-01'         3   Product_19         1   Shirts   \n",
      "3           3       '2024-12-01'         4   Product_12         1  Jackets   \n",
      "4           4       '2024-12-01'         5   Product_11         2  Dresses   \n",
      "\n",
      "   price  \n",
      "0  69.06  \n",
      "1  98.51  \n",
      "2  51.94  \n",
      "3  50.99  \n",
      "4  69.06  \n"
     ]
    }
   ],
   "source": [
    "import pandas as pd\n",
    "\n",
    "# Replace 'your_file.csv' with the path to your CSV file\n",
    "newdf = pd.read_csv('data/order_full_information.csv')\n",
    "\n",
    "# Check the first few rows\n",
    "print(newdf.shape)\n",
    "print(newdf.head())"
   ]
  },
  {
   "cell_type": "code",
   "execution_count": 9,
   "id": "19523386-44ee-4ea7-b3db-04e3daf63a57",
   "metadata": {},
   "outputs": [],
   "source": [
    "import requests\n",
    "import os\n",
    "\n",
    "API_KEY = os.getenv(\"currencyapikey\")\n",
    "url = f\"https://api.freecurrencyapi.com/v1/latest?apikey={API_KEY}&currencies=USD&base_currency=BRL\"\n",
    "\n",
    "response = requests.get(url)\n",
    "data = response.json()\n",
    "\n",
    "# Extract exchange rate\n",
    "brl_to_usd = data[\"data\"][\"USD\"]\n",
    "\n",
    "# Step 3: Calculate total_price_us and total_price_br\n",
    "newdf[\"total_price_br\"] = newdf[\"price\"] * newdf[\"quantity\"]\n",
    "newdf[\"total_price_us\"] = newdf[\"total_price_br\"] * brl_to_usd\n",
    "\n",
    "# Step 4: Select required columns\n",
    "result_df = newdf[[\n",
    "    \"order_created_date\", \"order_id\", \"product_name\", \"quantity\",\n",
    "    \"category\",\"total_price_br\", \"total_price_us\"\n",
    "]]"
   ]
  },
  {
   "cell_type": "code",
   "execution_count": 10,
   "id": "e683b222-f025-450f-9cff-ca641d4b8c10",
   "metadata": {},
   "outputs": [
    {
     "name": "stdout",
     "output_type": "stream",
     "text": [
      "(50, 7)\n",
      "  order_created_date  order_id product_name  quantity category  \\\n",
      "0       '2024-12-01'         1   Product_11         1  Dresses   \n",
      "1       '2024-12-01'         2   Product_17         2   Shirts   \n",
      "2       '2024-12-01'         3   Product_19         1   Shirts   \n",
      "3       '2024-12-01'         4   Product_12         1  Jackets   \n",
      "4       '2024-12-01'         5   Product_11         2  Dresses   \n",
      "\n",
      "   total_price_br  total_price_us  \n",
      "0           69.06       12.256088  \n",
      "1          197.02       34.965166  \n",
      "2           51.94        9.217799  \n",
      "3           50.99        9.049202  \n",
      "4          138.12       24.512175  \n"
     ]
    }
   ],
   "source": [
    "print(result_df.shape)\n",
    "print(result_df.head())"
   ]
  },
  {
   "cell_type": "code",
   "execution_count": 11,
   "id": "ca8e44d5-4818-439e-a48b-9f8cbaaa2e53",
   "metadata": {},
   "outputs": [
    {
     "name": "stdout",
     "output_type": "stream",
     "text": [
      "order_created_date\n",
      "'2024-12-01'     8\n",
      "'2024-12-02'     5\n",
      "'2024-12-03'     3\n",
      "'2024-12-05'     6\n",
      "'2024-12-06'    10\n",
      "'2024-12-07'     4\n",
      "'2024-12-09'     7\n",
      "'2024-12-10'     7\n",
      "Name: order_id, dtype: int64\n",
      "'2024-12-06'\n",
      "10\n"
     ]
    }
   ],
   "source": [
    "# 1. Date with max number of orders\n",
    "orders_per_date = result_df.groupby(\"order_created_date\")[\"order_id\"].nunique()\n",
    "print(orders_per_date)\n",
    "max_orders_date = orders_per_date.idxmax()\n",
    "print(max_orders_date)\n",
    "max_orders_count = orders_per_date.max()\n",
    "print(max_orders_count)"
   ]
  },
  {
   "cell_type": "code",
   "execution_count": 12,
   "id": "c10a477e-1931-495a-9799-2ebdbb497972",
   "metadata": {},
   "outputs": [
    {
     "name": "stdout",
     "output_type": "stream",
     "text": [
      "product_name\n",
      "Product_1      8\n",
      "Product_10     1\n",
      "Product_11     4\n",
      "Product_12     4\n",
      "Product_13    13\n",
      "Product_14    10\n",
      "Product_15     5\n",
      "Product_17    10\n",
      "Product_18    12\n",
      "Product_19    19\n",
      "Product_2      2\n",
      "Product_20    12\n",
      "Product_3      2\n",
      "Product_4      7\n",
      "Product_5     20\n",
      "Product_6      3\n",
      "Product_7     11\n",
      "Product_8      3\n",
      "Name: quantity, dtype: int64\n",
      "Product_5\n",
      "20\n",
      "158.26786862250003\n"
     ]
    }
   ],
   "source": [
    "# 2. Most demanded product and total sell price\n",
    "product_qty = result_df.groupby(\"product_name\")[\"quantity\"].sum()\n",
    "print(product_qty)\n",
    "most_demanded_product = product_qty.idxmax()\n",
    "print(most_demanded_product)\n",
    "most_demanded_qty = product_qty.max()\n",
    "print(most_demanded_qty)\n",
    "total_sell_price = result_df[result_df[\"product_name\"] == most_demanded_product][\"total_price_us\"].sum()\n",
    "print(total_sell_price)"
   ]
  },
  {
   "cell_type": "code",
   "execution_count": 16,
   "id": "1c39e09f-0268-4b16-9650-c38c644901a0",
   "metadata": {},
   "outputs": [
    {
     "name": "stdout",
     "output_type": "stream",
     "text": [
      "category\n",
      "Shirts     50\n",
      "Jackets    30\n",
      "Pants      29\n",
      "Name: quantity, dtype: int64\n"
     ]
    }
   ],
   "source": [
    "# 3. Top 3 most demanded categories\n",
    "top_categories = result_df.groupby(\"category\")[\"quantity\"].sum().nlargest(3)\n",
    "print(top_categories)"
   ]
  },
  {
   "cell_type": "code",
   "execution_count": 19,
   "id": "9b263c55-82b7-4fc8-bbeb-c8655f746496",
   "metadata": {},
   "outputs": [],
   "source": [
    "rows = [\n",
    "    {\n",
    "        \"kpi\": \"Max orders date\",\n",
    "        \"value\": max_orders_date,\n",
    "        \"extra\": max_orders_count\n",
    "    },\n",
    "    {\n",
    "        \"kpi\": \"Most demanded product\",\n",
    "        \"value\": most_demanded_product,\n",
    "        \"extra\": f\"{most_demanded_qty} units, ${total_sell_price:.2f} USD\"\n",
    "    },\n",
    "    {\n",
    "        \"kpi\": \"Top 3 most demanded categories\",\n",
    "        \"value\": top_categories,\n",
    "        \"extra\": f\"{top_categories} units, ${total_sell_price:.2f} USD\"\n",
    "    }\n",
    "]\n",
    "\n",
    "kpi_df = pd.DataFrame(rows)\n",
    "kpi_df.to_csv(\"data/kpi_product_orders.csv\", index=False)"
   ]
  },
  {
   "cell_type": "code",
   "execution_count": null,
   "id": "4e8f3a24-c7d3-4932-9952-7e7f2a5b4c76",
   "metadata": {},
   "outputs": [],
   "source": []
  }
 ],
 "metadata": {
  "kernelspec": {
   "display_name": "Python 3 (ipykernel)",
   "language": "python",
   "name": "python3"
  },
  "language_info": {
   "codemirror_mode": {
    "name": "ipython",
    "version": 3
   },
   "file_extension": ".py",
   "mimetype": "text/x-python",
   "name": "python",
   "nbconvert_exporter": "python",
   "pygments_lexer": "ipython3",
   "version": "3.12.3"
  }
 },
 "nbformat": 4,
 "nbformat_minor": 5
}
